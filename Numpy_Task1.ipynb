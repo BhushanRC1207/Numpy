{
 "cells": [
  {
   "cell_type": "code",
   "execution_count": 1,
   "id": "06631899",
   "metadata": {},
   "outputs": [],
   "source": [
    "import numpy as np"
   ]
  },
  {
   "cell_type": "markdown",
   "id": "5af705a2",
   "metadata": {},
   "source": [
    "### `Q-1` Create a null vector of size 10 but the fifth value which is 1."
   ]
  },
  {
   "cell_type": "code",
   "execution_count": 21,
   "id": "f2d98b9d",
   "metadata": {},
   "outputs": [
    {
     "name": "stdout",
     "output_type": "stream",
     "text": [
      "[0 0 0 0 0 0 0 0 0 0]\n",
      "[nan nan nan nan nan nan nan nan nan nan]\n",
      "[nan nan nan nan  1. nan nan nan nan nan]\n"
     ]
    }
   ],
   "source": [
    "# np.empty(no of items) -create empty np.array of given size. \n",
    "a=np.empty(10,dtype=np.int8)\n",
    "print(a)\n",
    "a=a*np.nan\n",
    "print(a)\n",
    "a[4]=1\n",
    "print(a)"
   ]
  },
  {
   "cell_type": "code",
   "execution_count": 22,
   "id": "24746b5c",
   "metadata": {},
   "outputs": [
    {
     "data": {
      "text/plain": [
       "array([nan, nan, nan, nan,  1., nan, nan, nan, nan, nan])"
      ]
     },
     "execution_count": 22,
     "metadata": {},
     "output_type": "execute_result"
    }
   ],
   "source": [
    "# Filling the numpy array with NaN values\n",
    "a = np.nan * np.empty(10)\n",
    "a[4] = 1\n",
    "a"
   ]
  },
  {
   "cell_type": "markdown",
   "id": "e9461979",
   "metadata": {},
   "source": [
    "### `Q-2` Ask user to input two numbers a, b. Write a program to generate a random array of shape (a, b) and print the array and avg of the array."
   ]
  },
  {
   "cell_type": "code",
   "execution_count": 4,
   "id": "99733443",
   "metadata": {},
   "outputs": [
    {
     "name": "stdout",
     "output_type": "stream",
     "text": [
      "Enter Num1: 5\n",
      "Enter Num2: 5\n",
      "\n",
      "[[0.8131918  0.80813333 0.73458951 0.8524603  0.78570209]\n",
      " [0.12172938 0.74688383 0.07722567 0.39935195 0.06468476]\n",
      " [0.8500267  0.38503957 0.37561476 0.1599382  0.46976195]\n",
      " [0.20424014 0.78181916 0.81803278 0.24636516 0.83016362]\n",
      " [0.65714037 0.97549204 0.04292177 0.88160683 0.05869256]]\n",
      "\n",
      "25\n",
      "\n",
      "13.14080823407137\n",
      "\n",
      "Avg:  0.5256323293628548\n",
      "\n",
      "0.5256323293628548\n"
     ]
    }
   ],
   "source": [
    "x=int(input('Enter Num1: '))\n",
    "y=int(input('Enter Num2: '))\n",
    "\n",
    "random_arr=np.random.random((x,y))\n",
    "random_arr_sum=np.sum(random_arr)\n",
    "total_item=random_arr.size\n",
    "\n",
    "print()\n",
    "print(random_arr)\n",
    "print()\n",
    "print(total_item)\n",
    "print()\n",
    "print(random_arr_sum)\n",
    "print()\n",
    "print('Avg: ',random_arr_sum/total_item)\n",
    "print()\n",
    "print(random_arr.mean())"
   ]
  },
  {
   "cell_type": "code",
   "execution_count": 47,
   "id": "f64c682c",
   "metadata": {},
   "outputs": [
    {
     "name": "stdout",
     "output_type": "stream",
     "text": [
      "Enter two numbers: 5 5\n",
      "[[0.21805813 0.98338495 0.82595639 0.92738075 0.27270317]\n",
      " [0.67496844 0.85153342 0.3700961  0.79565317 0.67833644]\n",
      " [0.9142071  0.67978106 0.86982594 0.72579053 0.74643149]\n",
      " [0.49285959 0.00495729 0.34987128 0.47724619 0.28974497]\n",
      " [0.34807681 0.1311056  0.7149016  0.97866668 0.85772483]]\n",
      "0.6071704765826931\n"
     ]
    }
   ],
   "source": [
    "a,b = map(int, input(\"Enter two numbers: \").split())\n",
    "x = np.random.random((a,b))\n",
    "print(x)\n",
    "print(x.mean())"
   ]
  },
  {
   "cell_type": "markdown",
   "id": "7d20dc91",
   "metadata": {},
   "source": [
    "### `Q-3`Write a function to create a 2d array with 1 on the border and 0 inside. Take 2-D array shape as (a,b) as parameter to function.\n",
    "\n",
    "Eg.-\n",
    "```\n",
    "[[1,1,1,1],\n",
    "[1,0,0,1],\n",
    "[1,0,0,1],\n",
    "[1,1,1,1]]\n",
    "```"
   ]
  },
  {
   "cell_type": "code",
   "execution_count": 137,
   "id": "5ff8c8c8",
   "metadata": {},
   "outputs": [
    {
     "name": "stdout",
     "output_type": "stream",
     "text": [
      "Enter Num1: 5\n",
      "Enter Num2: 5\n",
      "\n",
      "[[0 0 0 0 0]\n",
      " [0 0 0 0 0]\n",
      " [0 0 0 0 0]\n",
      " [0 0 0 0 0]\n",
      " [0 0 0 0 0]]\n",
      "\n",
      "[[1 1 1 1 1]\n",
      " [1 0 0 0 1]\n",
      " [1 0 0 0 1]\n",
      " [1 0 0 0 1]\n",
      " [1 1 1 1 1]]\n"
     ]
    },
    {
     "data": {
      "text/plain": [
       "228"
      ]
     },
     "execution_count": 137,
     "metadata": {},
     "output_type": "execute_result"
    }
   ],
   "source": [
    "import sys\n",
    "\n",
    "def border_arr():\n",
    "    x=int(input('Enter Num1: '))\n",
    "    y=int(input('Enter Num2: '))\n",
    "\n",
    "    empty=np.zeros((x,y),dtype=np.int32)\n",
    "\n",
    "    print()\n",
    "    print(empty)\n",
    "\n",
    "    empty[0:x:x-1]=1\n",
    "    empty[1:x-1,0:y:y-1]=1\n",
    "\n",
    "    print()\n",
    "    print(empty)\n",
    "    \n",
    "    return sys.getsizeof(empty)\n",
    "    \n",
    "    \n",
    "border_arr()"
   ]
  },
  {
   "cell_type": "code",
   "execution_count": 136,
   "id": "3e71a6c5",
   "metadata": {},
   "outputs": [
    {
     "data": {
      "text/plain": [
       "(array([[1., 1., 1., 1., 1.],\n",
       "        [1., 0., 0., 0., 1.],\n",
       "        [1., 0., 0., 0., 1.],\n",
       "        [1., 1., 1., 1., 1.]]),\n",
       " 288)"
      ]
     },
     "execution_count": 136,
     "metadata": {},
     "output_type": "execute_result"
    }
   ],
   "source": [
    "import sys\n",
    "\n",
    "def borderArray(a,b):\n",
    "    x = np.ones((a,b))\n",
    "    x[1:-1, 1:-1] = 0    # Except the border, changing all other elements to 0\n",
    "    return x,sys.getsizeof(x)  # 288\n",
    "\n",
    "\n",
    "borderArray(4,5)"
   ]
  },
  {
   "cell_type": "code",
   "execution_count": 135,
   "id": "77f1514b",
   "metadata": {},
   "outputs": [
    {
     "data": {
      "text/plain": [
       "(array([[1, 1, 1, 1, 1],\n",
       "        [1, 0, 0, 0, 1],\n",
       "        [1, 0, 0, 0, 1],\n",
       "        [1, 1, 1, 1, 1]]),\n",
       " 208)"
      ]
     },
     "execution_count": 135,
     "metadata": {},
     "output_type": "execute_result"
    }
   ],
   "source": [
    "import sys\n",
    "\n",
    "def borderArray(a,b):\n",
    "    x = np.ones((a,b),dtype=np.int32)\n",
    "    x[1:-1, 1:-1] = 0    # Except the border, changing all other elements to 0\n",
    "    return x,sys.getsizeof(x) #208\n",
    "\n",
    "borderArray(4,5)"
   ]
  },
  {
   "cell_type": "markdown",
   "id": "a58f9b18",
   "metadata": {},
   "source": [
    "### `Q-4` Create a vector of size 10 with values ranging from 0 to 1, both excluded.\n"
   ]
  },
  {
   "cell_type": "code",
   "execution_count": 154,
   "id": "c79524bd",
   "metadata": {},
   "outputs": [
    {
     "data": {
      "text/plain": [
       "array([0.09090909, 0.18181818, 0.27272727, 0.36363636, 0.45454545,\n",
       "       0.54545455, 0.63636364, 0.72727273, 0.81818182, 0.90909091])"
      ]
     },
     "execution_count": 154,
     "metadata": {},
     "output_type": "execute_result"
    }
   ],
   "source": [
    "np.linspace(0,1,12)[1:-1] # excluded"
   ]
  },
  {
   "cell_type": "code",
   "execution_count": 156,
   "id": "71b6564d",
   "metadata": {},
   "outputs": [
    {
     "data": {
      "text/plain": [
       "array([0.        , 0.11111111, 0.22222222, 0.33333333, 0.44444444,\n",
       "       0.55555556, 0.66666667, 0.77777778, 0.88888889, 1.        ])"
      ]
     },
     "execution_count": 156,
     "metadata": {},
     "output_type": "execute_result"
    }
   ],
   "source": [
    "np.linspace(0,1,10)  # included"
   ]
  },
  {
   "cell_type": "markdown",
   "id": "ec7aa5e1",
   "metadata": {},
   "source": [
    "### `Q-5` Can you create a identity mattrix of shape (3,4). If yes write code for it."
   ]
  },
  {
   "cell_type": "code",
   "execution_count": 170,
   "id": "1f85bb97",
   "metadata": {},
   "outputs": [
    {
     "data": {
      "text/plain": [
       "array([[1., 0., 0., 0.],\n",
       "       [0., 1., 0., 0.],\n",
       "       [0., 0., 1., 0.],\n",
       "       [0., 0., 0., 1.]])"
      ]
     },
     "execution_count": 170,
     "metadata": {},
     "output_type": "execute_result"
    }
   ],
   "source": [
    "# Identity matricx is a square mattrix, means no of rows and columns will always be same.\n",
    "# Here shape given 3,4 so identuty matrix not possible.\n",
    "\n",
    "#Identy matrix of size 3-- 3X3\n",
    "np.eye(3)\n",
    "\n",
    "#Identy matrix of size 4-- 4X4\n",
    "np.identity(4)\n",
    "\n",
    "# eye and identity are same."
   ]
  },
  {
   "cell_type": "markdown",
   "id": "bdeeb03c",
   "metadata": {},
   "source": [
    "### `Q-6:` Create a 5x5 matrix with row values ranging from 0 to 4."
   ]
  },
  {
   "cell_type": "code",
   "execution_count": 176,
   "id": "d6d13994",
   "metadata": {},
   "outputs": [
    {
     "data": {
      "text/plain": [
       "array([[0, 1, 2, 3, 4],\n",
       "       [0, 1, 2, 3, 4],\n",
       "       [0, 1, 2, 3, 4],\n",
       "       [0, 1, 2, 3, 4],\n",
       "       [0, 1, 2, 3, 4]])"
      ]
     },
     "execution_count": 176,
     "metadata": {},
     "output_type": "execute_result"
    }
   ],
   "source": [
    "x=np.zeros((5,5),dtype=int)\n",
    "x[:,1]=1\n",
    "x[:,2]=2\n",
    "x[:,3]=3\n",
    "x[:,4]=4\n",
    "x"
   ]
  },
  {
   "cell_type": "code",
   "execution_count": 179,
   "id": "85db5811",
   "metadata": {},
   "outputs": [
    {
     "data": {
      "text/plain": [
       "array([[0., 1., 2., 3., 4.],\n",
       "       [0., 1., 2., 3., 4.],\n",
       "       [0., 1., 2., 3., 4.],\n",
       "       [0., 1., 2., 3., 4.],\n",
       "       [0., 1., 2., 3., 4.]])"
      ]
     },
     "execution_count": 179,
     "metadata": {},
     "output_type": "execute_result"
    }
   ],
   "source": [
    "z = np.zeros((5,5))\n",
    "z=z+np.arange(5)\n",
    "z"
   ]
  },
  {
   "cell_type": "markdown",
   "id": "6136fb43",
   "metadata": {},
   "source": [
    "### `Q-7:`  Consider a random integer (in range 1 to 100) vector with shape `(10,2)` representing coordinates, and coordinates of a point as array is given. Create an array of distance of each point in the random vectros from the given point. Distance array should be interger type.\n",
    "\n",
    "```\n",
    "point = np.array([2,3]) \n",
    "```\n"
   ]
  },
  {
   "cell_type": "code",
   "execution_count": 183,
   "id": "b7818ddc",
   "metadata": {},
   "outputs": [
    {
     "data": {
      "text/plain": [
       "array([ 83,  21,  94,  71,  69,  26,  71, 108, 118,  53])"
      ]
     },
     "execution_count": 183,
     "metadata": {},
     "output_type": "execute_result"
    }
   ],
   "source": [
    "a = np.random.randint(1, 100, (10, 2))\n",
    "p = np.array([2,3])\n",
    "np.sqrt(np.sum((a-p)**2, axis=1)).astype(int)"
   ]
  },
  {
   "cell_type": "code",
   "execution_count": 184,
   "id": "e663e5fc",
   "metadata": {},
   "outputs": [
    {
     "data": {
      "text/plain": [
       "array([[29, 82],\n",
       "       [21, 13],\n",
       "       [77, 60],\n",
       "       [20, 72],\n",
       "       [32, 66],\n",
       "       [17, 25],\n",
       "       [71, 22],\n",
       "       [80, 79],\n",
       "       [98, 73],\n",
       "       [23, 52]])"
      ]
     },
     "execution_count": 184,
     "metadata": {},
     "output_type": "execute_result"
    }
   ],
   "source": [
    "a"
   ]
  },
  {
   "cell_type": "code",
   "execution_count": 185,
   "id": "a5fc05ad",
   "metadata": {},
   "outputs": [
    {
     "data": {
      "text/plain": [
       "array([2, 3])"
      ]
     },
     "execution_count": 185,
     "metadata": {},
     "output_type": "execute_result"
    }
   ],
   "source": [
    "p"
   ]
  },
  {
   "cell_type": "code",
   "execution_count": 186,
   "id": "a386ea02",
   "metadata": {},
   "outputs": [
    {
     "data": {
      "text/plain": [
       "array([[ 729, 6241],\n",
       "       [ 361,  100],\n",
       "       [5625, 3249],\n",
       "       [ 324, 4761],\n",
       "       [ 900, 3969],\n",
       "       [ 225,  484],\n",
       "       [4761,  361],\n",
       "       [6084, 5776],\n",
       "       [9216, 4900],\n",
       "       [ 441, 2401]])"
      ]
     },
     "execution_count": 186,
     "metadata": {},
     "output_type": "execute_result"
    }
   ],
   "source": [
    "(a-p)**2"
   ]
  },
  {
   "cell_type": "code",
   "execution_count": 187,
   "id": "c39d150d",
   "metadata": {},
   "outputs": [
    {
     "data": {
      "text/plain": [
       "array([ 6970,   461,  8874,  5085,  4869,   709,  5122, 11860, 14116,\n",
       "        2842])"
      ]
     },
     "execution_count": 187,
     "metadata": {},
     "output_type": "execute_result"
    }
   ],
   "source": [
    "np.sum((a-p)**2, axis=1)"
   ]
  },
  {
   "cell_type": "code",
   "execution_count": 188,
   "id": "bc6f8c49",
   "metadata": {},
   "outputs": [
    {
     "data": {
      "text/plain": [
       "array([ 83.48652586,  21.47091055,  94.20191081,  71.30918594,\n",
       "        69.7782201 ,  26.62705391,  71.56814934, 108.90362712,\n",
       "       118.81077392,  53.31041174])"
      ]
     },
     "execution_count": 188,
     "metadata": {},
     "output_type": "execute_result"
    }
   ],
   "source": [
    "np.sqrt(np.sum((a-p)**2, axis=1))"
   ]
  },
  {
   "cell_type": "code",
   "execution_count": 194,
   "id": "c7ae3b80",
   "metadata": {},
   "outputs": [
    {
     "data": {
      "text/plain": [
       "array([[86, 29, 67, 85, 38],\n",
       "       [32, 53, 88, 64, 35],\n",
       "       [88, 57, 45, 59, 39],\n",
       "       [60, 28, 71, 60, 75],\n",
       "       [41, 76, 57, 77,  6]])"
      ]
     },
     "execution_count": 194,
     "metadata": {},
     "output_type": "execute_result"
    }
   ],
   "source": [
    "np.random.randint(1,100,(5,5))"
   ]
  },
  {
   "cell_type": "code",
   "execution_count": 196,
   "id": "5479a127",
   "metadata": {},
   "outputs": [
    {
     "data": {
      "text/plain": [
       "array([[[50, 88, 86,  2, 33],\n",
       "        [30, 15,  8, 67, 89],\n",
       "        [34, 65, 64, 82, 56],\n",
       "        [ 6, 56, 69, 58, 18],\n",
       "        [88, 76, 95, 97, 91]],\n",
       "\n",
       "       [[70, 87, 47, 74,  8],\n",
       "        [54, 98, 46,  6, 63],\n",
       "        [ 5, 97, 45,  8, 14],\n",
       "        [56, 22, 16, 49, 79],\n",
       "        [33, 36, 40, 99, 75]]])"
      ]
     },
     "execution_count": 196,
     "metadata": {},
     "output_type": "execute_result"
    }
   ],
   "source": [
    "np.random.randint(1,100,(2,5,5))"
   ]
  },
  {
   "cell_type": "markdown",
   "id": "40e5c52f",
   "metadata": {},
   "source": [
    "### `Q-8:` Consider a (6,7,8) shape array, what is the index (x,y,z) of the 100th element?"
   ]
  },
  {
   "cell_type": "code",
   "execution_count": 199,
   "id": "c6ee6d6a",
   "metadata": {},
   "outputs": [
    {
     "data": {
      "text/plain": [
       "(1, 5, 4)"
      ]
     },
     "execution_count": 199,
     "metadata": {},
     "output_type": "execute_result"
    }
   ],
   "source": [
    "np.unravel_index(100, (6,7,8))"
   ]
  },
  {
   "cell_type": "markdown",
   "id": "d7659576",
   "metadata": {},
   "source": [
    "### `Q-9:` Arrays\n",
    "\n",
    "You are given a space separated list of numbers. Your task is to print a reversed NumPy array with the element type float.\n",
    "\n",
    "**Input Format:**\n",
    "\n",
    "A single line of input containing space separated numbers.\n",
    "\n",
    "**Output Format:**\n",
    "\n",
    "Print the reverse NumPy array with type float.\n",
    "\n",
    "**Example 1:**\n",
    "\n",
    "Input:\n",
    "\n",
    "```bash\n",
    "1 2 3 4 -8 -10\n",
    "```\n",
    "\n",
    "Output:\n",
    "\n",
    "```bash\n",
    "[-10.  -8.   4.   3.   2.   1.]\n",
    "```\n"
   ]
  },
  {
   "cell_type": "code",
   "execution_count": 17,
   "id": "d857d109",
   "metadata": {},
   "outputs": [
    {
     "name": "stdout",
     "output_type": "stream",
     "text": [
      "1 2 3 4 5 \n"
     ]
    },
    {
     "data": {
      "text/plain": [
       "array([5., 4., 3., 2., 1.], dtype=float32)"
      ]
     },
     "execution_count": 17,
     "metadata": {},
     "output_type": "execute_result"
    }
   ],
   "source": [
    "a = input().strip().split()\n",
    "np.array(a[::-1], dtype=np.float32)"
   ]
  },
  {
   "cell_type": "markdown",
   "id": "e10704bf",
   "metadata": {},
   "source": [
    "### `Q-10:` Elements count\n",
    "\n",
    "Count the number of elements of a numpy array.\n",
    "\n",
    "**Example 1:**\n",
    "\n",
    "Input:\n",
    "```bash\n",
    "np.array([])\n",
    "```\n",
    "\n",
    "Output:\n",
    "```bash\n",
    "elements_count :  0\n",
    "```\n",
    "\n",
    "**Example 2:**\n",
    "\n",
    "Input:\n",
    "```bash\n",
    "np.array([1, 2])\n",
    "```\n",
    "\n",
    "Output:\n",
    "```bash\n",
    "elements_count :  2\n",
    "```"
   ]
  },
  {
   "cell_type": "code",
   "execution_count": 38,
   "id": "aee536f7",
   "metadata": {},
   "outputs": [
    {
     "name": "stdout",
     "output_type": "stream",
     "text": [
      "Elements_count:  0\n"
     ]
    }
   ],
   "source": [
    "count=0\n",
    "a=np.array([])\n",
    "\n",
    "if a.size==0:\n",
    "    print('Elements_count: ',0)\n",
    "else:\n",
    "    for i in np.nditer(a):\n",
    "        count+=1\n",
    "    print('Elements_count: ',count)"
   ]
  },
  {
   "cell_type": "code",
   "execution_count": 41,
   "id": "629f9f5b",
   "metadata": {},
   "outputs": [
    {
     "name": "stdout",
     "output_type": "stream",
     "text": [
      "elements_count:  0\n"
     ]
    }
   ],
   "source": [
    "a=np.array([])\n",
    "\n",
    "if a.size==0:\n",
    "    print('elements_count: ',0)\n",
    "else:\n",
    "    print('elements_count: ',a.size)"
   ]
  },
  {
   "cell_type": "markdown",
   "id": "4433a002",
   "metadata": {},
   "source": [
    "### `Q-11:` Softmax function\n",
    "\n",
    "Create a Python function to calculate the Softmax of the given numpy 1D array. The function only accepts the numpy 1D array, otherwise raise error.\n",
    "\n",
    "$$\\Large \\sigma(\\vec z)_i = \\frac{e^{z_i}}{\\sum_{j=i}^{K}{e^{z_j}}}$$\n",
    "\n",
    "https://en.wikipedia.org/wiki/Softmax_function\n",
    "\n",
    "\n",
    "**Example 1:**\n",
    "\n",
    "Input:\n",
    "```bash\n",
    "[86.03331084 37.7285648  48.64908087 87.16563062 38.40852563 37.20006318]\n",
    "```\n",
    "\n",
    "Output:\n",
    "```bash\n",
    "[2.43733249e-01, 2.56112115e-22, 1.41628284e-17, 7.56266751e-01, \n",
    "       5.05514197e-22, 1.50974911e-22]\n",
    "```\n",
    "\n",
    "**Example 2:**\n",
    "\n",
    "Input:\n",
    "```bash\n",
    "[33.17344305 45.61961654 82.05405781 80.9647098  68.82830233 91.52064278]\n",
    "```\n",
    "\n",
    "Output:\n",
    "```bash\n",
    "[4.57181035e-26, 1.16249923e-20, 7.73872596e-05, 2.60358426e-05,\n",
    "       1.39571531e-10, 9.99896577e-01]\n",
    "```"
   ]
  },
  {
   "cell_type": "code",
   "execution_count": 44,
   "id": "526b47b3",
   "metadata": {},
   "outputs": [
    {
     "data": {
      "text/plain": [
       "array([2.43733248e-01, 2.56112114e-22, 1.41628283e-17, 7.56266752e-01,\n",
       "       5.05514197e-22, 1.50974911e-22])"
      ]
     },
     "execution_count": 44,
     "metadata": {},
     "output_type": "execute_result"
    }
   ],
   "source": [
    "def softmax(arr):\n",
    "    if type(arr) != np.ndarray:\n",
    "        raise TypeError(\"Requires Numpy Array\")\n",
    "    elif arr.ndim > 1:\n",
    "        raise TypeError(\"Requires 1D Array\")\n",
    "    s = np.sum(np.exp(arr))\n",
    "    return np.exp(arr)/s\n",
    "\n",
    "softmax(np.array([86.03331084, 37.7285648,  48.64908087, 87.16563062, 38.40852563, 37.20006318]))"
   ]
  },
  {
   "cell_type": "markdown",
   "id": "18d50b93",
   "metadata": {},
   "source": [
    "### `Q-12:` Vertical stack\n",
    "\n",
    "Write a python function that accepts infinite number of numpy arrays and do the vertical stack to them. Then return that new array as result. The function only accepts the numpy array, otherwise raise error.\n",
    "\n",
    "**Example 1:**\n",
    "\n",
    "Input:\n",
    "```bash\n",
    "a= [[0 1 2 3 4]\n",
    " [5 6 7 8 9]]\n",
    "\n",
    "b= [[1 1 1 1 1]\n",
    " [1 1 1 1 1]]\n",
    "```\n",
    "\n",
    "Output:\n",
    "\n",
    "```bash\n",
    "[[0 1 2 3 4]\n",
    " [5 6 7 8 9]\n",
    " [1 1 1 1 1]\n",
    " [1 1 1 1 1]]\n",
    "```\n",
    "\n",
    "**Example 2:**\n",
    "\n",
    "Input:\n",
    "```bash\n",
    "a= [[0 1 2 3 4]\n",
    " [5 6 7 8 9]]\n",
    "\n",
    "b= [[1 1 1 1 1]\n",
    " [1 1 1 1 1]]\n",
    "\n",
    "c= [[0.10117373 0.1677244  0.73764059 0.83166097 0.48985695]\n",
    " [0.44581567 0.13502419 0.55692335 0.16479622 0.61193593]] \n",
    "```\n",
    "\n",
    "Output:\n",
    "```bash\n",
    "[[0.         1.         2.         3.         4.        ]\n",
    " [5.         6.         7.         8.         9.        ]\n",
    " [1.         1.         1.         1.         1.        ]\n",
    " [1.         1.         1.         1.         1.        ]\n",
    " [0.10117373 0.1677244  0.73764059 0.83166097 0.48985695]\n",
    " [0.44581567 0.13502419 0.55692335 0.16479622 0.61193593]]\n",
    "```"
   ]
  },
  {
   "cell_type": "code",
   "execution_count": 49,
   "id": "1104903d",
   "metadata": {},
   "outputs": [
    {
     "name": "stdout",
     "output_type": "stream",
     "text": [
      "a= [[0 1 2 3 4]\n",
      " [5 6 7 8 9]]\n",
      "\n",
      "b= [[1 1 1 1 1]\n",
      " [1 1 1 1 1]]\n",
      "\n",
      "[[0 1 2 3 4]\n",
      " [5 6 7 8 9]\n",
      " [1 1 1 1 1]\n",
      " [1 1 1 1 1]]\n",
      "\n",
      "c= [[0.49927837 0.06024056 0.33212401 0.25564179 0.16220498]\n",
      " [0.51410682 0.08918618 0.39598031 0.86133231 0.06236152]]\n",
      "\n",
      "[[0.         1.         2.         3.         4.        ]\n",
      " [5.         6.         7.         8.         9.        ]\n",
      " [1.         1.         1.         1.         1.        ]\n",
      " [1.         1.         1.         1.         1.        ]\n",
      " [0.49927837 0.06024056 0.33212401 0.25564179 0.16220498]\n",
      " [0.51410682 0.08918618 0.39598031 0.86133231 0.06236152]]\n"
     ]
    }
   ],
   "source": [
    "def vertical_stack(*args):\n",
    "    for i in args:\n",
    "        if type(i) != np.ndarray:\n",
    "            raise TypeError(\"Requires Numpy Array\")\n",
    "    return np.vstack(args)\n",
    "\n",
    "\n",
    "a = np.arange(10).reshape(2, -1)\n",
    "print(\"a=\",a)\n",
    "print()\n",
    "\n",
    "b = np.repeat(1, 10).reshape(2, -1)\n",
    "print(\"b=\",b)\n",
    "print()\n",
    "\n",
    "print(vertical_stack(a,b))\n",
    "print()\n",
    "\n",
    "c = np.random.random((2,5))\n",
    "print(\"c=\", c)\n",
    "print()\n",
    "print(vertical_stack(a,b,c))"
   ]
  },
  {
   "cell_type": "markdown",
   "id": "2f8054f0",
   "metadata": {},
   "source": [
    "### `Q-13:` Dates\n",
    "\n",
    "Create a python function named **date_array** that accepts two dates as string format and returns a numpy array of dates between those 2 dates. The function only accept 2 strings, otherwise raise error. The date format should be like this only: `2022-12-6`. The end date should be included and for simplicity, choose dates from a same year.\n",
    "\n",
    "**Example 1:**\n",
    "\n",
    "Input:\n",
    "```bash\n",
    "date_array(start = '2020-09-15', end = '2020-09-25')\n",
    "```\n",
    "\n",
    "Output:\n",
    "```bash\n",
    "['2020-09-15', '2020-09-16', '2020-09-17', '2020-09-18',\n",
    " '2020-09-19', '2020-09-20', '2020-09-21', '2020-09-22',\n",
    " '2020-09-23', '2020-09-24', '2020-09-25']\n",
    "```\n",
    "\n",
    "**Example 2:**\n",
    "\n",
    "Input:\n",
    "```bash\n",
    "date_array(start = '2022-12-01', end = '2022-12-06')\n",
    "```\n",
    "\n",
    "Output:\n",
    "```bash\n",
    "['2022-12-01', '2022-12-02', '2022-12-03', '2022-12-04', '2022-12-05', '2022-12-06']\n",
    "```\n",
    "\n",
    "**Example 3:**\n",
    "\n",
    "Input:\n",
    "```bash\n",
    "date_array(start = '2020-11-25', end = '2020-11-30')\n",
    "```\n",
    "\n",
    "Output:\n",
    "```bash\n",
    "['2020-11-25', '2020-11-26', '2020-11-27', '2020-11-28',\n",
    " '2020-11-29', '2020-11-30']\n",
    "```"
   ]
  },
  {
   "cell_type": "code",
   "execution_count": 50,
   "id": "bde8293c",
   "metadata": {},
   "outputs": [
    {
     "data": {
      "text/plain": [
       "array(['2020-11-25', '2020-11-26', '2020-11-27', '2020-11-28',\n",
       "       '2020-11-29', '2020-11-30'], dtype='datetime64[D]')"
      ]
     },
     "execution_count": 50,
     "metadata": {},
     "output_type": "execute_result"
    }
   ],
   "source": [
    "def date_array(start: str, end: str):\n",
    "    if type(start) != str or type(end) != str:\n",
    "        raise TypeError\n",
    "        \n",
    "    total_days_of_month = {\"01\": 31, \"02\": 28, \"03\": 31, \"04\":30, \"05\": 31, \"06\":30, \"07\":31, \"08\":31, \"09\":30, \"10\": 31, \"11\":30, \"12\":31}\n",
    "\n",
    "    end = end.split(\"-\")\n",
    "    end_last = int(end[-1]) + 1\n",
    "    \n",
    "    # If the next day of end falls in the next month, account for that\n",
    "    if total_days_of_month[end[-2]] < end_last:\n",
    "        days_diff = end_last - total_days_of_month[end[-2]]\n",
    "        end[-1] = f'0{days_diff}' if days_diff< 10 else f'{days_diff}'\n",
    "        next_month = int(end[-2]) + 1\n",
    "        end[-2] = f'0{next_month}' if next_month< 10 else f'{next_month}'\n",
    "    else:\n",
    "        end[-1] = f'0{end_last}' if end_last < 10 else f'{end_last}'\n",
    "    end = \"-\".join(end)\n",
    "    return np.arange(start, end, dtype=\"datetime64[D]\")    # Use arange() to generate all dates between start and end \n",
    "\n",
    "\n",
    "date_array(start = '2020-11-25', end = '2020-11-30')"
   ]
  },
  {
   "cell_type": "markdown",
   "id": "39536495",
   "metadata": {},
   "source": [
    "### `Q-14:` Subtract the mean of each row from a matrix."
   ]
  },
  {
   "cell_type": "code",
   "execution_count": 51,
   "id": "6a0605b9",
   "metadata": {},
   "outputs": [
    {
     "data": {
      "text/plain": [
       "array([[-0.11577397,  0.02584442,  0.31238455, -0.222455  ],\n",
       "       [-0.24995241,  0.14887074, -0.0042941 ,  0.10537577],\n",
       "       [-0.06876239,  0.24584495,  0.17622305, -0.35330561],\n",
       "       [ 0.11291258, -0.07963448,  0.20800566, -0.24128375],\n",
       "       [-0.15707793,  0.41877048, -0.23083754, -0.03085501]])"
      ]
     },
     "execution_count": 51,
     "metadata": {},
     "output_type": "execute_result"
    }
   ],
   "source": [
    "x = np.random.random((5,4))\n",
    "x - x.mean(axis = 1, keepdims = True)"
   ]
  },
  {
   "cell_type": "markdown",
   "id": "4ea60efb",
   "metadata": {},
   "source": [
    "### `Q-15:` Swap column-1 of array with column-2 in the array."
   ]
  },
  {
   "cell_type": "code",
   "execution_count": 53,
   "id": "90c226e7",
   "metadata": {},
   "outputs": [
    {
     "name": "stdout",
     "output_type": "stream",
     "text": [
      "[[0 1 2]\n",
      " [3 4 5]\n",
      " [6 7 8]]\n",
      "\n"
     ]
    },
    {
     "data": {
      "text/plain": [
       "array([[0, 2, 1],\n",
       "       [3, 5, 4],\n",
       "       [6, 8, 7]])"
      ]
     },
     "execution_count": 53,
     "metadata": {},
     "output_type": "execute_result"
    }
   ],
   "source": [
    "a = np.arange(9).reshape(3,3)\n",
    "print(a)\n",
    "print()\n",
    "a[:, [0, 2, 1]]"
   ]
  },
  {
   "cell_type": "markdown",
   "id": "49bf2c71",
   "metadata": {},
   "source": [
    "### `Q-16:` Replace odd elements in arrays with -1."
   ]
  },
  {
   "cell_type": "code",
   "execution_count": 54,
   "id": "1361df17",
   "metadata": {},
   "outputs": [
    {
     "data": {
      "text/plain": [
       "array([ 0, -1,  2, -1,  4, -1,  6, -1,  8, -1])"
      ]
     },
     "execution_count": 54,
     "metadata": {},
     "output_type": "execute_result"
    }
   ],
   "source": [
    "a = np.arange(10)\n",
    "a[a%2 == 1] = -1\n",
    "a"
   ]
  },
  {
   "cell_type": "markdown",
   "id": "a81026c9",
   "metadata": {},
   "source": [
    "### `Q-17:` Given two arrays of same shape make an array of max out of two arrays. (Numpy way)\n",
    "```\n",
    "a=np.array([6,3,1,5,8])\n",
    "b=np.array([3,2,1,7,2])\n",
    "\n",
    "Result-> [6 3 1 7 8]\n",
    "``` "
   ]
  },
  {
   "cell_type": "code",
   "execution_count": 55,
   "id": "0e76e483",
   "metadata": {},
   "outputs": [
    {
     "data": {
      "text/plain": [
       "array([6, 3, 1, 7, 8])"
      ]
     },
     "execution_count": 55,
     "metadata": {},
     "output_type": "execute_result"
    }
   ],
   "source": [
    "a=np.array([6,3,1,5,8])\n",
    "b=np.array([3,2,1,7,2])\n",
    "\n",
    "a[b>a] = b[a<b]\n",
    "a"
   ]
  },
  {
   "cell_type": "markdown",
   "id": "19dc4d90",
   "metadata": {},
   "source": [
    "### `Q-18` Answer below asked questions on given array:\n",
    "1. Fetch Every alternate column of the array\n",
    "2. Normalise the given array\n",
    "\n",
    "https://en.wikipedia.org/wiki/Normalization_(statistics)\n",
    "\n",
    "There are different form of normalisation for this question use below formula.\n",
    "\n",
    "$$\\large X_{normalized} = \\frac{X - X_{min}}{X_{max} - X_{min}}$$\n",
    "\n",
    "```python\n",
    "arr1=np.random.randint(low=1, high=10000, size=40).reshape(8,5)\n",
    "```\n"
   ]
  },
  {
   "cell_type": "code",
   "execution_count": 56,
   "id": "1ba1d6f7",
   "metadata": {},
   "outputs": [
    {
     "data": {
      "text/plain": [
       "array([[3848, 9880, 3048, 1447, 1438],\n",
       "       [8663, 6161, 8188, 8996,   75],\n",
       "       [8627, 1858, 7065, 4323,  903],\n",
       "       [1378, 3688, 7324, 8535, 8189],\n",
       "       [9558, 1351, 7338, 6996, 4249],\n",
       "       [6223, 8466,  987, 4527, 7617],\n",
       "       [4518, 1796, 1614, 8855, 3802],\n",
       "       [9366, 4100,  629, 3465, 8253]])"
      ]
     },
     "execution_count": 56,
     "metadata": {},
     "output_type": "execute_result"
    }
   ],
   "source": [
    "# Given\n",
    "arr1=np.random.randint(low=1, high=10000, size=40).reshape(8,5)\n",
    "arr1"
   ]
  },
  {
   "cell_type": "code",
   "execution_count": 57,
   "id": "d9e60811",
   "metadata": {},
   "outputs": [
    {
     "data": {
      "text/plain": [
       "array([[3848, 3048, 1438],\n",
       "       [8663, 8188,   75],\n",
       "       [8627, 7065,  903],\n",
       "       [1378, 7324, 8189],\n",
       "       [9558, 7338, 4249],\n",
       "       [6223,  987, 7617],\n",
       "       [4518, 1614, 3802],\n",
       "       [9366,  629, 8253]])"
      ]
     },
     "execution_count": 57,
     "metadata": {},
     "output_type": "execute_result"
    }
   ],
   "source": [
    "arr1[:, ::2]"
   ]
  },
  {
   "cell_type": "code",
   "execution_count": 58,
   "id": "7ebade11",
   "metadata": {},
   "outputs": [
    {
     "data": {
      "text/plain": [
       "array([[0.38480367, 1.        , 0.30321265, 0.13992861, 0.13901071],\n",
       "       [0.87587965, 0.62070372, 0.82743498, 0.90984192, 0.        ],\n",
       "       [0.87220806, 0.181846  , 0.71290158, 0.43324834, 0.08444671],\n",
       "       [0.13289138, 0.36848547, 0.73931668, 0.86282509, 0.82753697],\n",
       "       [0.96715961, 0.13013768, 0.74074452, 0.70586435, 0.42570117],\n",
       "       [0.62702703, 0.85578786, 0.09301377, 0.45405405, 0.76919939],\n",
       "       [0.45313616, 0.17552269, 0.15696073, 0.8954615 , 0.38011219],\n",
       "       [0.94757777, 0.41050484, 0.05650178, 0.34574197, 0.83406425]])"
      ]
     },
     "execution_count": 58,
     "metadata": {},
     "output_type": "execute_result"
    }
   ],
   "source": [
    "(arr1 - arr1.min())/(arr1.max() - arr1.min())"
   ]
  },
  {
   "cell_type": "markdown",
   "id": "d32300ba",
   "metadata": {},
   "source": [
    "### `Q-19:` Write a function which will accept 2 arguments.\n",
    "First: A 1D numpy array arr\n",
    "\n",
    "Second: An integer n {Please make sure n<=len(arr)}\n",
    "\n",
    "Output: The output should be the nth largest item out of the array\n",
    "```\n",
    "# Example1 : arr=(12,34,40,7,1,0) and n=3, the output should be 12\n",
    "# Example2 : arr=(12,34,40,7,1,0) and n=1, the output should be 40\n",
    "```"
   ]
  },
  {
   "cell_type": "code",
   "execution_count": 59,
   "id": "8ebcca90",
   "metadata": {},
   "outputs": [
    {
     "data": {
      "text/plain": [
       "34"
      ]
     },
     "execution_count": 59,
     "metadata": {},
     "output_type": "execute_result"
    }
   ],
   "source": [
    "#Code here\n",
    "def nthmax(arr, n):\n",
    "    if n>len(arr):\n",
    "        raise IndexError(\"n is way out of limit\")\n",
    "    arr.sort()\n",
    "    return arr[-n]\n",
    "nthmax(np.array([12,34,40,7,1,0]),2)"
   ]
  },
  {
   "cell_type": "markdown",
   "id": "a4d611f8",
   "metadata": {},
   "source": [
    "### `Q-20:` Create the following pattern without hardcoding. Use only numpy functions and the below input array a.\n",
    "```\n",
    "# Input: a = np.array([1,2,3])\n",
    "# Output: array([1, 1, 1, 2, 2, 2, 3, 3, 3, 1, 2, 3, 1, 2, 3, 1, 2, 3])\n",
    "```"
   ]
  },
  {
   "cell_type": "code",
   "execution_count": 60,
   "id": "30760aa4",
   "metadata": {},
   "outputs": [
    {
     "data": {
      "text/plain": [
       "array([1, 1, 1, 2, 2, 2, 3, 3, 3, 1, 2, 3, 1, 2, 3, 1, 2, 3])"
      ]
     },
     "execution_count": 60,
     "metadata": {},
     "output_type": "execute_result"
    }
   ],
   "source": [
    "#code here\n",
    "a = np.array([1,2,3])\n",
    "np.hstack([np.repeat(a, 3), np.tile(a, 3)])"
   ]
  },
  {
   "cell_type": "code",
   "execution_count": null,
   "id": "29484d8c",
   "metadata": {},
   "outputs": [],
   "source": []
  }
 ],
 "metadata": {
  "kernelspec": {
   "display_name": "Python 3 (ipykernel)",
   "language": "python",
   "name": "python3"
  },
  "language_info": {
   "codemirror_mode": {
    "name": "ipython",
    "version": 3
   },
   "file_extension": ".py",
   "mimetype": "text/x-python",
   "name": "python",
   "nbconvert_exporter": "python",
   "pygments_lexer": "ipython3",
   "version": "3.10.9"
  }
 },
 "nbformat": 4,
 "nbformat_minor": 5
}
