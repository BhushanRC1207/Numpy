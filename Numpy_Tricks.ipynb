{
 "cells": [
  {
   "cell_type": "code",
   "execution_count": 1,
   "id": "eff4f40a",
   "metadata": {},
   "outputs": [],
   "source": [
    "import numpy as np"
   ]
  },
  {
   "cell_type": "code",
   "execution_count": 3,
   "id": "46353ffc",
   "metadata": {},
   "outputs": [
    {
     "data": {
      "text/plain": [
       "array([53, 90, 71, 42, 21, 64, 26, 98, 83, 61, 12, 78, 76, 87, 15])"
      ]
     },
     "execution_count": 3,
     "metadata": {},
     "output_type": "execute_result"
    }
   ],
   "source": [
    "a=np.random.randint(1,100,15)\n",
    "a"
   ]
  },
  {
   "cell_type": "code",
   "execution_count": 5,
   "id": "41fc91e3",
   "metadata": {},
   "outputs": [
    {
     "data": {
      "text/plain": [
       "array([[92, 31, 94, 60],\n",
       "       [12, 10, 68, 49],\n",
       "       [62, 49, 99, 32],\n",
       "       [ 2, 72, 81, 16],\n",
       "       [24, 17, 16, 67],\n",
       "       [65, 77,  6, 88]])"
      ]
     },
     "execution_count": 5,
     "metadata": {},
     "output_type": "execute_result"
    }
   ],
   "source": [
    "b=np.random.randint(1,100,24).reshape(6,4)\n",
    "b"
   ]
  },
  {
   "cell_type": "markdown",
   "id": "b42baefb",
   "metadata": {},
   "source": [
    "### np.sort\n",
    "- Return a sorted copy of an array"
   ]
  },
  {
   "cell_type": "code",
   "execution_count": 6,
   "id": "5763b813",
   "metadata": {},
   "outputs": [
    {
     "data": {
      "text/plain": [
       "array([12, 15, 21, 26, 42, 53, 61, 64, 71, 76, 78, 83, 87, 90, 98])"
      ]
     },
     "execution_count": 6,
     "metadata": {},
     "output_type": "execute_result"
    }
   ],
   "source": [
    "np.sort(a)"
   ]
  },
  {
   "cell_type": "code",
   "execution_count": 10,
   "id": "48c30c84",
   "metadata": {},
   "outputs": [
    {
     "data": {
      "text/plain": [
       "array([98, 90, 87, 83, 78, 76, 71, 64, 61, 53, 42, 26, 21, 15, 12])"
      ]
     },
     "execution_count": 10,
     "metadata": {},
     "output_type": "execute_result"
    }
   ],
   "source": [
    "np.sort(a)[::-1]"
   ]
  },
  {
   "cell_type": "code",
   "execution_count": 11,
   "id": "616b6f5b",
   "metadata": {},
   "outputs": [
    {
     "data": {
      "text/plain": [
       "array([[31, 60, 92, 94],\n",
       "       [10, 12, 49, 68],\n",
       "       [32, 49, 62, 99],\n",
       "       [ 2, 16, 72, 81],\n",
       "       [16, 17, 24, 67],\n",
       "       [ 6, 65, 77, 88]])"
      ]
     },
     "execution_count": 11,
     "metadata": {},
     "output_type": "execute_result"
    }
   ],
   "source": [
    "# row\n",
    "np.sort(b)"
   ]
  },
  {
   "cell_type": "code",
   "execution_count": 12,
   "id": "f09e564f",
   "metadata": {},
   "outputs": [
    {
     "data": {
      "text/plain": [
       "array([[ 2, 10,  6, 16],\n",
       "       [12, 17, 16, 32],\n",
       "       [24, 31, 68, 49],\n",
       "       [62, 49, 81, 60],\n",
       "       [65, 72, 94, 67],\n",
       "       [92, 77, 99, 88]])"
      ]
     },
     "execution_count": 12,
     "metadata": {},
     "output_type": "execute_result"
    }
   ],
   "source": [
    "# column\n",
    "np.sort(b,axis=0)"
   ]
  },
  {
   "cell_type": "markdown",
   "id": "0ac3a16a",
   "metadata": {},
   "source": [
    "### np.append\n",
    "- The numpy.append() appends values along the mentioned axis at the end of the array."
   ]
  },
  {
   "cell_type": "code",
   "execution_count": 14,
   "id": "0e9b651a",
   "metadata": {},
   "outputs": [
    {
     "data": {
      "text/plain": [
       "array([ 53,  90,  71,  42,  21,  64,  26,  98,  83,  61,  12,  78,  76,\n",
       "        87,  15, 101])"
      ]
     },
     "execution_count": 14,
     "metadata": {},
     "output_type": "execute_result"
    }
   ],
   "source": [
    "np.append(a,101)"
   ]
  },
  {
   "cell_type": "code",
   "execution_count": 17,
   "id": "5e184c33",
   "metadata": {},
   "outputs": [
    {
     "data": {
      "text/plain": [
       "array([[92., 31., 94., 60.,  1.],\n",
       "       [12., 10., 68., 49.,  1.],\n",
       "       [62., 49., 99., 32.,  1.],\n",
       "       [ 2., 72., 81., 16.,  1.],\n",
       "       [24., 17., 16., 67.,  1.],\n",
       "       [65., 77.,  6., 88.,  1.]])"
      ]
     },
     "execution_count": 17,
     "metadata": {},
     "output_type": "execute_result"
    }
   ],
   "source": [
    "np.append(b,np.ones((b.shape[0],1)),axis=1)"
   ]
  },
  {
   "cell_type": "code",
   "execution_count": 20,
   "id": "1ad7f162",
   "metadata": {},
   "outputs": [
    {
     "data": {
      "text/plain": [
       "array([[92.        , 31.        , 94.        , 60.        ,  0.97815649],\n",
       "       [12.        , 10.        , 68.        , 49.        ,  0.11299222],\n",
       "       [62.        , 49.        , 99.        , 32.        ,  0.77296928],\n",
       "       [ 2.        , 72.        , 81.        , 16.        ,  0.42437867],\n",
       "       [24.        , 17.        , 16.        , 67.        ,  0.41698892],\n",
       "       [65.        , 77.        ,  6.        , 88.        ,  0.82693769]])"
      ]
     },
     "execution_count": 20,
     "metadata": {},
     "output_type": "execute_result"
    }
   ],
   "source": [
    "np.append(b,np.random.random((b.shape[0],1)),axis=1)"
   ]
  },
  {
   "cell_type": "markdown",
   "id": "f4c5bb6e",
   "metadata": {},
   "source": [
    "### np.concatenate\n",
    "- numpy.concatenate() function concatenate a sequence of arrays along an existing axis."
   ]
  },
  {
   "cell_type": "code",
   "execution_count": 23,
   "id": "a964b97c",
   "metadata": {},
   "outputs": [
    {
     "name": "stdout",
     "output_type": "stream",
     "text": [
      "[[0 1 2]\n",
      " [3 4 5]]\n",
      "\n",
      "[[ 6  7  8]\n",
      " [ 9 10 11]]\n"
     ]
    }
   ],
   "source": [
    "c=np.arange(6).reshape(2,3)\n",
    "d=np.arange(6,12).reshape(2,3)\n",
    "\n",
    "print(c)\n",
    "print()\n",
    "print(d)"
   ]
  },
  {
   "cell_type": "code",
   "execution_count": 25,
   "id": "f84e824a",
   "metadata": {},
   "outputs": [
    {
     "data": {
      "text/plain": [
       "array([[ 0,  1,  2],\n",
       "       [ 3,  4,  5],\n",
       "       [ 6,  7,  8],\n",
       "       [ 9, 10, 11]])"
      ]
     },
     "execution_count": 25,
     "metadata": {},
     "output_type": "execute_result"
    }
   ],
   "source": [
    "np.concatenate((c,d),axis=0)"
   ]
  },
  {
   "cell_type": "code",
   "execution_count": 26,
   "id": "758517f3",
   "metadata": {},
   "outputs": [
    {
     "data": {
      "text/plain": [
       "array([[ 0,  1,  2,  6,  7,  8],\n",
       "       [ 3,  4,  5,  9, 10, 11]])"
      ]
     },
     "execution_count": 26,
     "metadata": {},
     "output_type": "execute_result"
    }
   ],
   "source": [
    "np.concatenate((c,d),axis=1)"
   ]
  },
  {
   "cell_type": "markdown",
   "id": "c8b4bbc2",
   "metadata": {},
   "source": [
    "### np.unique\n",
    "- with the help of np.unique() method,we can get the unique values from an array given as parameter in np.unique() method."
   ]
  },
  {
   "cell_type": "code",
   "execution_count": 27,
   "id": "a9af65af",
   "metadata": {},
   "outputs": [
    {
     "data": {
      "text/plain": [
       "array([1, 2, 3, 4, 5, 6])"
      ]
     },
     "execution_count": 27,
     "metadata": {},
     "output_type": "execute_result"
    }
   ],
   "source": [
    "a=np.array([1,1,1,2,2,2,2,2,3,3,3,4,4,4,4,5,5,5,6])\n",
    "np.unique(a)"
   ]
  },
  {
   "cell_type": "markdown",
   "id": "73ba0c87",
   "metadata": {},
   "source": [
    "### np.expand_dims\n",
    "- with the help of numpy.expand_dims() method,we can get the expanded dimensions of an array"
   ]
  },
  {
   "cell_type": "code",
   "execution_count": 29,
   "id": "d8d94c3e",
   "metadata": {},
   "outputs": [
    {
     "data": {
      "text/plain": [
       "(15,)"
      ]
     },
     "execution_count": 29,
     "metadata": {},
     "output_type": "execute_result"
    }
   ],
   "source": [
    "a=np.random.randint(1,100,15)\n",
    "a.shape"
   ]
  },
  {
   "cell_type": "code",
   "execution_count": 32,
   "id": "b1439a79",
   "metadata": {},
   "outputs": [
    {
     "data": {
      "text/plain": [
       "(1, 15)"
      ]
     },
     "execution_count": 32,
     "metadata": {},
     "output_type": "execute_result"
    }
   ],
   "source": [
    "np.expand_dims(a,axis=0).shape"
   ]
  },
  {
   "cell_type": "code",
   "execution_count": 35,
   "id": "91042412",
   "metadata": {},
   "outputs": [
    {
     "data": {
      "text/plain": [
       "(15, 1)"
      ]
     },
     "execution_count": 35,
     "metadata": {},
     "output_type": "execute_result"
    }
   ],
   "source": [
    "np.expand_dims(a,axis=1).shape"
   ]
  },
  {
   "cell_type": "markdown",
   "id": "0262a09a",
   "metadata": {},
   "source": [
    "### np.where\n",
    "- The numpy.where() function return the indices of elements in an input array where the given condition is satisfied."
   ]
  },
  {
   "cell_type": "code",
   "execution_count": 37,
   "id": "8aecf57e",
   "metadata": {},
   "outputs": [],
   "source": [
    "# np.where(condition,True,False)"
   ]
  },
  {
   "cell_type": "code",
   "execution_count": 38,
   "id": "14ed84be",
   "metadata": {},
   "outputs": [
    {
     "data": {
      "text/plain": [
       "array([30, 87, 64, 53, 88, 17, 75, 48, 32, 62, 44, 76, 96,  5, 37])"
      ]
     },
     "execution_count": 38,
     "metadata": {},
     "output_type": "execute_result"
    }
   ],
   "source": [
    "a"
   ]
  },
  {
   "cell_type": "code",
   "execution_count": 40,
   "id": "933cdffe",
   "metadata": {},
   "outputs": [
    {
     "data": {
      "text/plain": [
       "(array([ 0,  5,  7,  8, 10, 13, 14], dtype=int64),)"
      ]
     },
     "execution_count": 40,
     "metadata": {},
     "output_type": "execute_result"
    }
   ],
   "source": [
    "np.where(a<50)"
   ]
  },
  {
   "cell_type": "code",
   "execution_count": 42,
   "id": "2ac3459e",
   "metadata": {},
   "outputs": [
    {
     "data": {
      "text/plain": [
       "(array([ 1,  2,  3,  4,  6,  9, 11, 12], dtype=int64),)"
      ]
     },
     "execution_count": 42,
     "metadata": {},
     "output_type": "execute_result"
    }
   ],
   "source": [
    "np.where(a>50)"
   ]
  },
  {
   "cell_type": "code",
   "execution_count": 43,
   "id": "25781dba",
   "metadata": {},
   "outputs": [
    {
     "data": {
      "text/plain": [
       "array([30,  0,  0,  0,  0, 17,  0, 48, 32,  0, 44,  0,  0,  5, 37])"
      ]
     },
     "execution_count": 43,
     "metadata": {},
     "output_type": "execute_result"
    }
   ],
   "source": [
    "np.where(a>50,0,a)"
   ]
  },
  {
   "cell_type": "code",
   "execution_count": 44,
   "id": "08343a41",
   "metadata": {},
   "outputs": [
    {
     "data": {
      "text/plain": [
       "array([ 0, 87,  0, 53,  0, 17, 75,  0,  0,  0,  0,  0,  0,  5, 37])"
      ]
     },
     "execution_count": 44,
     "metadata": {},
     "output_type": "execute_result"
    }
   ],
   "source": [
    "np.where(a%2==0,0,a)"
   ]
  },
  {
   "cell_type": "markdown",
   "id": "a566f567",
   "metadata": {},
   "source": [
    "### np.argmax & np.argmin\n",
    "- The numpy.argmax() function returns indices of the max element of the array in a particular axis."
   ]
  },
  {
   "cell_type": "code",
   "execution_count": 58,
   "id": "1fa30112",
   "metadata": {},
   "outputs": [
    {
     "data": {
      "text/plain": [
       "array([30, 87, 64, 53, 88, 17, 75, 48, 32, 62, 44, 76, 96,  5, 37])"
      ]
     },
     "execution_count": 58,
     "metadata": {},
     "output_type": "execute_result"
    }
   ],
   "source": [
    "# np.argmax\n",
    "a"
   ]
  },
  {
   "cell_type": "code",
   "execution_count": 52,
   "id": "b6c01004",
   "metadata": {},
   "outputs": [
    {
     "data": {
      "text/plain": [
       "12"
      ]
     },
     "execution_count": 52,
     "metadata": {},
     "output_type": "execute_result"
    }
   ],
   "source": [
    "np.argmax(a)"
   ]
  },
  {
   "cell_type": "code",
   "execution_count": 53,
   "id": "88435d1b",
   "metadata": {},
   "outputs": [
    {
     "data": {
      "text/plain": [
       "array([[92, 31, 94, 60],\n",
       "       [12, 10, 68, 49],\n",
       "       [62, 49, 99, 32],\n",
       "       [ 2, 72, 81, 16],\n",
       "       [24, 17, 16, 67],\n",
       "       [65, 77,  6, 88]])"
      ]
     },
     "execution_count": 53,
     "metadata": {},
     "output_type": "execute_result"
    }
   ],
   "source": [
    "b"
   ]
  },
  {
   "cell_type": "code",
   "execution_count": 54,
   "id": "fecdc201",
   "metadata": {},
   "outputs": [
    {
     "data": {
      "text/plain": [
       "array([0, 5, 2, 5], dtype=int64)"
      ]
     },
     "execution_count": 54,
     "metadata": {},
     "output_type": "execute_result"
    }
   ],
   "source": [
    "# columns\n",
    "np.argmax(b,axis=0)"
   ]
  },
  {
   "cell_type": "code",
   "execution_count": 55,
   "id": "0f53bc22",
   "metadata": {},
   "outputs": [
    {
     "data": {
      "text/plain": [
       "array([2, 2, 2, 2, 3, 3], dtype=int64)"
      ]
     },
     "execution_count": 55,
     "metadata": {},
     "output_type": "execute_result"
    }
   ],
   "source": [
    "# rows\n",
    "np.argmax(b,axis=1)"
   ]
  },
  {
   "cell_type": "code",
   "execution_count": 56,
   "id": "7fd4dea5",
   "metadata": {},
   "outputs": [
    {
     "data": {
      "text/plain": [
       "array([30, 87, 64, 53, 88, 17, 75, 48, 32, 62, 44, 76, 96,  5, 37])"
      ]
     },
     "execution_count": 56,
     "metadata": {},
     "output_type": "execute_result"
    }
   ],
   "source": [
    "a"
   ]
  },
  {
   "cell_type": "code",
   "execution_count": 59,
   "id": "1ef5b2b7",
   "metadata": {},
   "outputs": [
    {
     "data": {
      "text/plain": [
       "13"
      ]
     },
     "execution_count": 59,
     "metadata": {},
     "output_type": "execute_result"
    }
   ],
   "source": [
    "# np.argmin\n",
    "np.argmin(a)"
   ]
  },
  {
   "cell_type": "code",
   "execution_count": 60,
   "id": "3507a44b",
   "metadata": {},
   "outputs": [
    {
     "data": {
      "text/plain": [
       "array([3, 1, 5, 3], dtype=int64)"
      ]
     },
     "execution_count": 60,
     "metadata": {},
     "output_type": "execute_result"
    }
   ],
   "source": [
    "np.argmin(b,axis=0)"
   ]
  },
  {
   "cell_type": "code",
   "execution_count": 61,
   "id": "ad9d23e4",
   "metadata": {},
   "outputs": [
    {
     "data": {
      "text/plain": [
       "array([1, 1, 3, 0, 2, 2], dtype=int64)"
      ]
     },
     "execution_count": 61,
     "metadata": {},
     "output_type": "execute_result"
    }
   ],
   "source": [
    "np.argmin(b,axis=1)"
   ]
  },
  {
   "cell_type": "markdown",
   "id": "e95aad31",
   "metadata": {},
   "source": [
    "### np.cumsum\n",
    "- numpy.cumsum() function is used when we want to compute the cumulative sum of array elements over a given lists."
   ]
  },
  {
   "cell_type": "code",
   "execution_count": 2,
   "id": "0a46024f",
   "metadata": {},
   "outputs": [
    {
     "data": {
      "text/plain": [
       "array([1, 2, 3, 4, 5])"
      ]
     },
     "execution_count": 2,
     "metadata": {},
     "output_type": "execute_result"
    }
   ],
   "source": [
    "import numpy as np\n",
    "a=np.arange(1,6)\n",
    "a"
   ]
  },
  {
   "cell_type": "code",
   "execution_count": 3,
   "id": "19e20b78",
   "metadata": {},
   "outputs": [
    {
     "data": {
      "text/plain": [
       "array([ 1,  3,  6, 10, 15])"
      ]
     },
     "execution_count": 3,
     "metadata": {},
     "output_type": "execute_result"
    }
   ],
   "source": [
    "np.cumsum(a)"
   ]
  },
  {
   "cell_type": "code",
   "execution_count": 78,
   "id": "892ded27",
   "metadata": {},
   "outputs": [
    {
     "data": {
      "text/plain": [
       "array([[92, 31, 94, 60],\n",
       "       [12, 10, 68, 49],\n",
       "       [62, 49, 99, 32],\n",
       "       [ 2, 72, 81, 16],\n",
       "       [24, 17, 16, 67],\n",
       "       [65, 77,  6, 88]])"
      ]
     },
     "execution_count": 78,
     "metadata": {},
     "output_type": "execute_result"
    }
   ],
   "source": [
    "b"
   ]
  },
  {
   "cell_type": "code",
   "execution_count": 79,
   "id": "511f1f97",
   "metadata": {},
   "outputs": [
    {
     "data": {
      "text/plain": [
       "array([  92,  123,  217,  277,  289,  299,  367,  416,  478,  527,  626,\n",
       "        658,  660,  732,  813,  829,  853,  870,  886,  953, 1018, 1095,\n",
       "       1101, 1189])"
      ]
     },
     "execution_count": 79,
     "metadata": {},
     "output_type": "execute_result"
    }
   ],
   "source": [
    "np.cumsum(b)"
   ]
  },
  {
   "cell_type": "code",
   "execution_count": 80,
   "id": "19cc2140",
   "metadata": {},
   "outputs": [
    {
     "data": {
      "text/plain": [
       "array([[ 92,  31,  94,  60],\n",
       "       [104,  41, 162, 109],\n",
       "       [166,  90, 261, 141],\n",
       "       [168, 162, 342, 157],\n",
       "       [192, 179, 358, 224],\n",
       "       [257, 256, 364, 312]])"
      ]
     },
     "execution_count": 80,
     "metadata": {},
     "output_type": "execute_result"
    }
   ],
   "source": [
    "np.cumsum(b,axis=0)"
   ]
  },
  {
   "cell_type": "code",
   "execution_count": 81,
   "id": "bb591a4c",
   "metadata": {},
   "outputs": [
    {
     "data": {
      "text/plain": [
       "array([[ 92, 123, 217, 277],\n",
       "       [ 12,  22,  90, 139],\n",
       "       [ 62, 111, 210, 242],\n",
       "       [  2,  74, 155, 171],\n",
       "       [ 24,  41,  57, 124],\n",
       "       [ 65, 142, 148, 236]])"
      ]
     },
     "execution_count": 81,
     "metadata": {},
     "output_type": "execute_result"
    }
   ],
   "source": [
    "np.cumsum(b,axis=1)"
   ]
  },
  {
   "cell_type": "markdown",
   "id": "37c468e0",
   "metadata": {},
   "source": [
    "### np.cumprod"
   ]
  },
  {
   "cell_type": "code",
   "execution_count": 82,
   "id": "b5fa08d2",
   "metadata": {},
   "outputs": [
    {
     "data": {
      "text/plain": [
       "array([1, 2, 3, 4, 5])"
      ]
     },
     "execution_count": 82,
     "metadata": {},
     "output_type": "execute_result"
    }
   ],
   "source": [
    "a=np.arange(1,6)\n",
    "a"
   ]
  },
  {
   "cell_type": "code",
   "execution_count": 83,
   "id": "6ae2a7cf",
   "metadata": {},
   "outputs": [
    {
     "data": {
      "text/plain": [
       "array([  1,   2,   6,  24, 120])"
      ]
     },
     "execution_count": 83,
     "metadata": {},
     "output_type": "execute_result"
    }
   ],
   "source": [
    "np.cumprod(a)"
   ]
  },
  {
   "cell_type": "markdown",
   "id": "3f447514",
   "metadata": {},
   "source": [
    "### np.percentile\n",
    "- numpy.percentile() function used to compute the nth percentile of the given data(array elements)along the specified axis."
   ]
  },
  {
   "cell_type": "code",
   "execution_count": 85,
   "id": "49f48c67",
   "metadata": {},
   "outputs": [
    {
     "data": {
      "text/plain": [
       "array([96,  1, 88,  5, 98, 10, 82, 76, 53,  8, 89, 82, 53, 49, 37])"
      ]
     },
     "execution_count": 85,
     "metadata": {},
     "output_type": "execute_result"
    }
   ],
   "source": [
    "a=np.random.randint(1,100,15)\n",
    "a"
   ]
  },
  {
   "cell_type": "code",
   "execution_count": 87,
   "id": "8819fb21",
   "metadata": {},
   "outputs": [
    {
     "data": {
      "text/plain": [
       "98.0"
      ]
     },
     "execution_count": 87,
     "metadata": {},
     "output_type": "execute_result"
    }
   ],
   "source": [
    "np.percentile(a,100)"
   ]
  },
  {
   "cell_type": "code",
   "execution_count": 88,
   "id": "1607104e",
   "metadata": {},
   "outputs": [
    {
     "data": {
      "text/plain": [
       "1.0"
      ]
     },
     "execution_count": 88,
     "metadata": {},
     "output_type": "execute_result"
    }
   ],
   "source": [
    "np.percentile(a,0)"
   ]
  },
  {
   "cell_type": "code",
   "execution_count": 89,
   "id": "b99f5d32",
   "metadata": {},
   "outputs": [
    {
     "data": {
      "text/plain": [
       "53.0"
      ]
     },
     "execution_count": 89,
     "metadata": {},
     "output_type": "execute_result"
    }
   ],
   "source": [
    "np.percentile(a,50)"
   ]
  },
  {
   "cell_type": "code",
   "execution_count": 90,
   "id": "3082a46c",
   "metadata": {},
   "outputs": [
    {
     "data": {
      "text/plain": [
       "53.0"
      ]
     },
     "execution_count": 90,
     "metadata": {},
     "output_type": "execute_result"
    }
   ],
   "source": [
    "np.median(a)"
   ]
  },
  {
   "cell_type": "markdown",
   "id": "b22579dc",
   "metadata": {},
   "source": [
    "### np.histogram\n",
    "- Numpy has a built in numpy.histogram() function which represents the frequency of data distribution in the graphical form."
   ]
  },
  {
   "cell_type": "code",
   "execution_count": 91,
   "id": "7e91a05d",
   "metadata": {},
   "outputs": [
    {
     "data": {
      "text/plain": [
       "array([96,  1, 88,  5, 98, 10, 82, 76, 53,  8, 89, 82, 53, 49, 37])"
      ]
     },
     "execution_count": 91,
     "metadata": {},
     "output_type": "execute_result"
    }
   ],
   "source": [
    "a"
   ]
  },
  {
   "cell_type": "code",
   "execution_count": 92,
   "id": "3e7a95e1",
   "metadata": {},
   "outputs": [
    {
     "data": {
      "text/plain": [
       "(array([3, 1, 0, 1, 1, 2, 0, 1, 4, 2], dtype=int64),\n",
       " array([  0,  10,  20,  30,  40,  50,  60,  70,  80,  90, 100]))"
      ]
     },
     "execution_count": 92,
     "metadata": {},
     "output_type": "execute_result"
    }
   ],
   "source": [
    "np.histogram(a,bins=[0,10,20,30,40,50,60,70,80,90,100])"
   ]
  },
  {
   "cell_type": "code",
   "execution_count": 93,
   "id": "b8a39501",
   "metadata": {},
   "outputs": [
    {
     "data": {
      "text/plain": [
       "(array([6, 9], dtype=int64), array([  0,  50, 100]))"
      ]
     },
     "execution_count": 93,
     "metadata": {},
     "output_type": "execute_result"
    }
   ],
   "source": [
    "np.histogram(a,bins=[0,50,100])"
   ]
  },
  {
   "cell_type": "markdown",
   "id": "d47f18bd",
   "metadata": {},
   "source": [
    "### np.corrcoef\n",
    "- Return person product moment correlation coefficients."
   ]
  },
  {
   "cell_type": "code",
   "execution_count": 2,
   "id": "3e76ef9f",
   "metadata": {},
   "outputs": [
    {
     "data": {
      "text/plain": [
       "array([[1.        , 0.25344572],\n",
       "       [0.25344572, 1.        ]])"
      ]
     },
     "execution_count": 2,
     "metadata": {},
     "output_type": "execute_result"
    }
   ],
   "source": [
    "salary=np.array([20000,40000,25000,35000,60000])\n",
    "experience=np.array([1,3,2,4,2])\n",
    "\n",
    "np.corrcoef(salary,experience)"
   ]
  },
  {
   "cell_type": "markdown",
   "id": "cb4f1eb5",
   "metadata": {},
   "source": [
    "### np.isin\n",
    "- with the help of numpy.isin() method,we can see that one array having values are checked in a different numpy array having different elements with different sizes."
   ]
  },
  {
   "cell_type": "code",
   "execution_count": 4,
   "id": "08779bad",
   "metadata": {},
   "outputs": [
    {
     "data": {
      "text/plain": [
       "array([25, 40, 11, 22,  8, 96, 61, 59, 48, 39, 12, 37, 48, 39, 56])"
      ]
     },
     "execution_count": 4,
     "metadata": {},
     "output_type": "execute_result"
    }
   ],
   "source": [
    "a=np.random.randint(1,100,15)\n",
    "a"
   ]
  },
  {
   "cell_type": "code",
   "execution_count": 6,
   "id": "ef25a2e8",
   "metadata": {},
   "outputs": [],
   "source": [
    "items=[10,20,30,40,50,60,70,80,90,100]"
   ]
  },
  {
   "cell_type": "code",
   "execution_count": 7,
   "id": "3a39d257",
   "metadata": {},
   "outputs": [
    {
     "data": {
      "text/plain": [
       "array([False,  True, False, False, False, False, False, False, False,\n",
       "       False, False, False, False, False, False])"
      ]
     },
     "execution_count": 7,
     "metadata": {},
     "output_type": "execute_result"
    }
   ],
   "source": [
    "np.isin(a,items)"
   ]
  },
  {
   "cell_type": "code",
   "execution_count": 8,
   "id": "bd5436c1",
   "metadata": {},
   "outputs": [
    {
     "data": {
      "text/plain": [
       "array([40])"
      ]
     },
     "execution_count": 8,
     "metadata": {},
     "output_type": "execute_result"
    }
   ],
   "source": [
    "a[np.isin(a,items)]"
   ]
  },
  {
   "cell_type": "markdown",
   "id": "bbf42144",
   "metadata": {},
   "source": [
    "### np.flip\n",
    "- The numpy.flip() function reverses the order of array elements along the specified axis,preserving the shape of the array."
   ]
  },
  {
   "cell_type": "code",
   "execution_count": 9,
   "id": "77a67a4c",
   "metadata": {},
   "outputs": [
    {
     "data": {
      "text/plain": [
       "array([25, 40, 11, 22,  8, 96, 61, 59, 48, 39, 12, 37, 48, 39, 56])"
      ]
     },
     "execution_count": 9,
     "metadata": {},
     "output_type": "execute_result"
    }
   ],
   "source": [
    "a"
   ]
  },
  {
   "cell_type": "code",
   "execution_count": 10,
   "id": "c046a6be",
   "metadata": {},
   "outputs": [
    {
     "data": {
      "text/plain": [
       "array([56, 39, 48, 37, 12, 39, 48, 59, 61, 96,  8, 22, 11, 40, 25])"
      ]
     },
     "execution_count": 10,
     "metadata": {},
     "output_type": "execute_result"
    }
   ],
   "source": [
    "np.flip(a)"
   ]
  },
  {
   "cell_type": "code",
   "execution_count": 11,
   "id": "41b46d0c",
   "metadata": {},
   "outputs": [
    {
     "data": {
      "text/plain": [
       "array([[73, 57, 66, 59],\n",
       "       [87, 71, 15, 86],\n",
       "       [25, 49, 37, 72],\n",
       "       [56, 63,  3, 42],\n",
       "       [49, 50, 86, 99],\n",
       "       [62, 42, 30, 85]])"
      ]
     },
     "execution_count": 11,
     "metadata": {},
     "output_type": "execute_result"
    }
   ],
   "source": [
    "b=np.random.randint(1,100,24).reshape(6,4)\n",
    "b"
   ]
  },
  {
   "cell_type": "code",
   "execution_count": 12,
   "id": "9b3cb8f3",
   "metadata": {},
   "outputs": [
    {
     "data": {
      "text/plain": [
       "array([[85, 30, 42, 62],\n",
       "       [99, 86, 50, 49],\n",
       "       [42,  3, 63, 56],\n",
       "       [72, 37, 49, 25],\n",
       "       [86, 15, 71, 87],\n",
       "       [59, 66, 57, 73]])"
      ]
     },
     "execution_count": 12,
     "metadata": {},
     "output_type": "execute_result"
    }
   ],
   "source": [
    "np.flip(b)"
   ]
  },
  {
   "cell_type": "code",
   "execution_count": 13,
   "id": "ac6bc647",
   "metadata": {},
   "outputs": [
    {
     "data": {
      "text/plain": [
       "array([[62, 42, 30, 85],\n",
       "       [49, 50, 86, 99],\n",
       "       [56, 63,  3, 42],\n",
       "       [25, 49, 37, 72],\n",
       "       [87, 71, 15, 86],\n",
       "       [73, 57, 66, 59]])"
      ]
     },
     "execution_count": 13,
     "metadata": {},
     "output_type": "execute_result"
    }
   ],
   "source": [
    "np.flip(b,axis=0)"
   ]
  },
  {
   "cell_type": "code",
   "execution_count": 14,
   "id": "c6330e69",
   "metadata": {},
   "outputs": [
    {
     "data": {
      "text/plain": [
       "array([[59, 66, 57, 73],\n",
       "       [86, 15, 71, 87],\n",
       "       [72, 37, 49, 25],\n",
       "       [42,  3, 63, 56],\n",
       "       [99, 86, 50, 49],\n",
       "       [85, 30, 42, 62]])"
      ]
     },
     "execution_count": 14,
     "metadata": {},
     "output_type": "execute_result"
    }
   ],
   "source": [
    "np.flip(b,axis=1)"
   ]
  },
  {
   "cell_type": "markdown",
   "id": "84f4a664",
   "metadata": {},
   "source": [
    "### np.put\n",
    "- The numpy.put() function replaces specific elements of an array with given values of p_array.Array indexed works on flatted array."
   ]
  },
  {
   "cell_type": "code",
   "execution_count": 15,
   "id": "2f481030",
   "metadata": {},
   "outputs": [
    {
     "data": {
      "text/plain": [
       "array([25, 40, 11, 22,  8, 96, 61, 59, 48, 39, 12, 37, 48, 39, 56])"
      ]
     },
     "execution_count": 15,
     "metadata": {},
     "output_type": "execute_result"
    }
   ],
   "source": [
    "a"
   ]
  },
  {
   "cell_type": "code",
   "execution_count": 20,
   "id": "11697019",
   "metadata": {},
   "outputs": [],
   "source": [
    "np.put(a,[0,1],[1,2]) # (array,list of index,list of values) permanent operation"
   ]
  },
  {
   "cell_type": "code",
   "execution_count": 21,
   "id": "e8fb519d",
   "metadata": {},
   "outputs": [
    {
     "data": {
      "text/plain": [
       "array([ 1,  2, 11, 22,  8, 96, 61, 59, 48, 39, 12, 37, 48, 39, 56])"
      ]
     },
     "execution_count": 21,
     "metadata": {},
     "output_type": "execute_result"
    }
   ],
   "source": [
    "a"
   ]
  },
  {
   "cell_type": "markdown",
   "id": "28161dad",
   "metadata": {},
   "source": [
    "### np.delete \n",
    "- The numpy.delete() function returns a new array with the deletion of sub-arrays along with the mentioned axis."
   ]
  },
  {
   "cell_type": "code",
   "execution_count": 22,
   "id": "cf10bc98",
   "metadata": {},
   "outputs": [
    {
     "data": {
      "text/plain": [
       "array([ 1,  2, 11, 22,  8, 96, 61, 59, 48, 39, 12, 37, 48, 39, 56])"
      ]
     },
     "execution_count": 22,
     "metadata": {},
     "output_type": "execute_result"
    }
   ],
   "source": [
    "a"
   ]
  },
  {
   "cell_type": "code",
   "execution_count": 25,
   "id": "66413915",
   "metadata": {},
   "outputs": [
    {
     "data": {
      "text/plain": [
       "array([ 2, 11, 22,  8, 96, 61, 59, 48, 39, 12, 37, 48, 39, 56])"
      ]
     },
     "execution_count": 25,
     "metadata": {},
     "output_type": "execute_result"
    }
   ],
   "source": [
    "np.delete(a,0) #(array,index)"
   ]
  },
  {
   "cell_type": "code",
   "execution_count": 27,
   "id": "39ab459b",
   "metadata": {},
   "outputs": [
    {
     "data": {
      "text/plain": [
       "array([ 1,  2, 11, 22,  8, 96, 61, 59, 48, 39, 12, 37, 48, 39, 56])"
      ]
     },
     "execution_count": 27,
     "metadata": {},
     "output_type": "execute_result"
    }
   ],
   "source": [
    "a"
   ]
  },
  {
   "cell_type": "code",
   "execution_count": 29,
   "id": "a6acebe1",
   "metadata": {},
   "outputs": [
    {
     "data": {
      "text/plain": [
       "array([22,  8, 96, 61, 59, 48, 39, 12, 37, 48, 39, 56])"
      ]
     },
     "execution_count": 29,
     "metadata": {},
     "output_type": "execute_result"
    }
   ],
   "source": [
    "np.delete(a,[0,1,2])  #(array,list of index)"
   ]
  },
  {
   "cell_type": "markdown",
   "id": "7c5529f5",
   "metadata": {},
   "source": [
    "## set functions\n",
    "- np.union1d\n",
    "- np.intersect1d\n",
    "- np.setdiff1d\n",
    "- np.setxor1d\n",
    "- np.in1d"
   ]
  },
  {
   "cell_type": "code",
   "execution_count": 30,
   "id": "a94d0e40",
   "metadata": {},
   "outputs": [],
   "source": [
    "m=np.array([1,2,3,4,5])\n",
    "n=np.array([3,4,5,6,7])"
   ]
  },
  {
   "cell_type": "code",
   "execution_count": 31,
   "id": "2339e125",
   "metadata": {},
   "outputs": [
    {
     "data": {
      "text/plain": [
       "array([1, 2, 3, 4, 5, 6, 7])"
      ]
     },
     "execution_count": 31,
     "metadata": {},
     "output_type": "execute_result"
    }
   ],
   "source": [
    "np.union1d(m,n)"
   ]
  },
  {
   "cell_type": "code",
   "execution_count": 32,
   "id": "1bdcf30f",
   "metadata": {},
   "outputs": [
    {
     "data": {
      "text/plain": [
       "array([3, 4, 5])"
      ]
     },
     "execution_count": 32,
     "metadata": {},
     "output_type": "execute_result"
    }
   ],
   "source": [
    "np.intersect1d(m,n)"
   ]
  },
  {
   "cell_type": "code",
   "execution_count": 34,
   "id": "25d60053",
   "metadata": {},
   "outputs": [
    {
     "data": {
      "text/plain": [
       "array([1, 2])"
      ]
     },
     "execution_count": 34,
     "metadata": {},
     "output_type": "execute_result"
    }
   ],
   "source": [
    "np.setdiff1d(m,n)"
   ]
  },
  {
   "cell_type": "code",
   "execution_count": 35,
   "id": "b2db9df0",
   "metadata": {},
   "outputs": [
    {
     "data": {
      "text/plain": [
       "array([6, 7])"
      ]
     },
     "execution_count": 35,
     "metadata": {},
     "output_type": "execute_result"
    }
   ],
   "source": [
    "np.setdiff1d(n,m)"
   ]
  },
  {
   "cell_type": "code",
   "execution_count": 36,
   "id": "abfabcee",
   "metadata": {},
   "outputs": [
    {
     "data": {
      "text/plain": [
       "array([1, 2, 6, 7])"
      ]
     },
     "execution_count": 36,
     "metadata": {},
     "output_type": "execute_result"
    }
   ],
   "source": [
    "np.setxor1d(m,n)"
   ]
  },
  {
   "cell_type": "code",
   "execution_count": 43,
   "id": "8c593223",
   "metadata": {},
   "outputs": [
    {
     "data": {
      "text/plain": [
       "array([ True, False, False, False, False])"
      ]
     },
     "execution_count": 43,
     "metadata": {},
     "output_type": "execute_result"
    }
   ],
   "source": [
    "np.in1d(m,1)  #(array,value)"
   ]
  },
  {
   "cell_type": "code",
   "execution_count": 39,
   "id": "2cabff95",
   "metadata": {},
   "outputs": [
    {
     "data": {
      "text/plain": [
       "array([1])"
      ]
     },
     "execution_count": 39,
     "metadata": {},
     "output_type": "execute_result"
    }
   ],
   "source": [
    "m[np.in1d(m,1)]"
   ]
  },
  {
   "cell_type": "code",
   "execution_count": 44,
   "id": "00a58727",
   "metadata": {},
   "outputs": [
    {
     "data": {
      "text/plain": [
       "array([False, False,  True, False, False])"
      ]
     },
     "execution_count": 44,
     "metadata": {},
     "output_type": "execute_result"
    }
   ],
   "source": [
    "np.in1d(n,5)  #(array,value)"
   ]
  },
  {
   "cell_type": "code",
   "execution_count": 45,
   "id": "54147305",
   "metadata": {},
   "outputs": [
    {
     "data": {
      "text/plain": [
       "array([5])"
      ]
     },
     "execution_count": 45,
     "metadata": {},
     "output_type": "execute_result"
    }
   ],
   "source": [
    "n[np.in1d(n,5)]"
   ]
  },
  {
   "cell_type": "markdown",
   "id": "28db70ce",
   "metadata": {},
   "source": [
    "### np.clip\n",
    "- numpy.clip() function is used to clip(limit) the values in an array."
   ]
  },
  {
   "cell_type": "code",
   "execution_count": 46,
   "id": "bda01188",
   "metadata": {},
   "outputs": [
    {
     "data": {
      "text/plain": [
       "array([ 1,  2, 11, 22,  8, 96, 61, 59, 48, 39, 12, 37, 48, 39, 56])"
      ]
     },
     "execution_count": 46,
     "metadata": {},
     "output_type": "execute_result"
    }
   ],
   "source": [
    "a"
   ]
  },
  {
   "cell_type": "code",
   "execution_count": 48,
   "id": "9b7033ba",
   "metadata": {},
   "outputs": [
    {
     "data": {
      "text/plain": [
       "array([25, 25, 25, 25, 25, 75, 61, 59, 48, 39, 25, 37, 48, 39, 56])"
      ]
     },
     "execution_count": 48,
     "metadata": {},
     "output_type": "execute_result"
    }
   ],
   "source": [
    "np.clip(a,a_min=25,a_max=75) #(all values between the lower and upper boundary)"
   ]
  },
  {
   "cell_type": "code",
   "execution_count": null,
   "id": "dfa88f25",
   "metadata": {},
   "outputs": [],
   "source": []
  }
 ],
 "metadata": {
  "kernelspec": {
   "display_name": "Python 3 (ipykernel)",
   "language": "python",
   "name": "python3"
  },
  "language_info": {
   "codemirror_mode": {
    "name": "ipython",
    "version": 3
   },
   "file_extension": ".py",
   "mimetype": "text/x-python",
   "name": "python",
   "nbconvert_exporter": "python",
   "pygments_lexer": "ipython3",
   "version": "3.10.9"
  }
 },
 "nbformat": 4,
 "nbformat_minor": 5
}
